{
 "cells": [
  {
   "cell_type": "code",
   "execution_count": null,
   "metadata": {
    "id": "ASqY0oah9iSe",
    "colab_type": "code",
    "outputId": "0122061f-1eb6-4de0-ba5b-8456b9838c93",
    "colab": {
     "base_uri": "https://localhost:8080/",
     "height": 917.0
    }
   },
   "outputs": [],
   "source": [
    "import pandas as pd\n",
    "from sklearn.cross_validation import train_test_split\n",
    "from sklearn.tree import DecisionTreeClassifier\n",
    "from sklearn.metrics import accuracy_score"
   ]
  },
  {
   "cell_type": "code",
   "execution_count": null,
   "metadata": {
    "id": "ASqY0oah9iSe",
    "colab_type": "code",
    "outputId": "0122061f-1eb6-4de0-ba5b-8456b9838c93",
    "colab": {
     "base_uri": "https://localhost:8080/",
     "height": 917.0
    }
   },
   "outputs": [],
   "source": [
    "balance_data = pd.read_csv(\n",
    "'https://archive.ics.uci.edu/ml/machine-learning-databases/balance-scale/balance-scale.data',\n",
    "                           sep= ',', header= None)"
   ]
  },
  {
   "cell_type": "code",
   "execution_count": null,
   "metadata": {
    "id": "ASqY0oah9iSe",
    "colab_type": "code",
    "outputId": "0122061f-1eb6-4de0-ba5b-8456b9838c93",
    "colab": {
     "base_uri": "https://localhost:8080/",
     "height": 917.0
    }
   },
   "outputs": [],
   "source": [
    "print \"Dataset Lenght:: \", len(balance_data)\n",
    "print \"Dataset Shape:: \", balance_data.shape\n",
    "print \"Dataset:: \"\n",
    "balance_data.head()"
   ]
  },
  {
   "cell_type": "code",
   "execution_count": null,
   "metadata": {
    "id": "ASqY0oah9iSe",
    "colab_type": "code",
    "outputId": "0122061f-1eb6-4de0-ba5b-8456b9838c93",
    "colab": {
     "base_uri": "https://localhost:8080/",
     "height": 917.0
    }
   },
   "outputs": [],
   "source": [
    "X = balance_data.values[:, 1:5]\n",
    "Y = balance_data.values[:,0]\n"
   ]
  },
  {
   "cell_type": "code",
   "execution_count": null,
   "metadata": {
    "id": "ASqY0oah9iSe",
    "colab_type": "code",
    "outputId": "0122061f-1eb6-4de0-ba5b-8456b9838c93",
    "colab": {
     "base_uri": "https://localhost:8080/",
     "height": 917.0
    }
   },
   "outputs": [],
   "source": [
    "X_train, X_test, y_train, y_test = train_test_split( X, Y, test_size = 0.3, random_state = 100)\n"
   ]
  },
  {
   "cell_type": "code",
   "execution_count": null,
   "metadata": {
    "id": "ASqY0oah9iSe",
    "colab_type": "code",
    "outputId": "0122061f-1eb6-4de0-ba5b-8456b9838c93",
    "colab": {
     "base_uri": "https://localhost:8080/",
     "height": 917.0
    }
   },
   "outputs": [],
   "source": [
    "clf_gini = DecisionTreeClassifier(criterion = \"gini\", random_state = 100,max_depth=3, min_samples_leaf=5)\n",
    "clf_gini.fit(X_train, y_train)\n"
   ]
  },
  {
   "cell_type": "code",
   "execution_count": null,
   "metadata": {
    "id": "ASqY0oah9iSe",
    "colab_type": "code",
    "outputId": "0122061f-1eb6-4de0-ba5b-8456b9838c93",
    "colab": {
     "base_uri": "https://localhost:8080/",
     "height": 917.0
    }
   },
   "outputs": [],
   "source": [
    "DecisionTreeClassifier(class_weight=None, criterion='gini', max_depth=3,\n",
    "            max_features=None, max_leaf_nodes=None, min_samples_leaf=5,\n",
    "            min_samples_split=2, min_weight_fraction_leaf=0.0,\n",
    "            presort=False, random_state=100, splitter='best')\n"
   ]
  },
  {
   "cell_type": "code",
   "execution_count": null,
   "metadata": {
    "id": "ASqY0oah9iSe",
    "colab_type": "code",
    "outputId": "0122061f-1eb6-4de0-ba5b-8456b9838c93",
    "colab": {
     "base_uri": "https://localhost:8080/",
     "height": 917.0
    }
   },
   "outputs": [],
   "source": [
    "clf_entropy = DecisionTreeClassifier(criterion = \"entropy\", random_state = 100,\n",
    " max_depth=3, min_samples_leaf=5)\n",
    "clf_entropy.fit(X_train, y_train)\n"
   ]
  },
  {
   "cell_type": "code",
   "execution_count": null,
   "metadata": {
    "id": "ASqY0oah9iSe",
    "colab_type": "code",
    "outputId": "0122061f-1eb6-4de0-ba5b-8456b9838c93",
    "colab": {
     "base_uri": "https://localhost:8080/",
     "height": 917.0
    }
   },
   "outputs": [],
   "source": [
    "DecisionTreeClassifier(class_weight=None, criterion='entropy', max_depth=3,\n",
    "            max_features=None, max_leaf_nodes=None, min_samples_leaf=5,\n",
    "            min_samples_split=2, min_weight_fraction_leaf=0.0,\n",
    "            presort=False, random_state=100, splitter='best')\n"
   ]
  },
  {
   "cell_type": "code",
   "execution_count": null,
   "metadata": {
    "id": "ASqY0oah9iSe",
    "colab_type": "code",
    "outputId": "0122061f-1eb6-4de0-ba5b-8456b9838c93",
    "colab": {
     "base_uri": "https://localhost:8080/",
     "height": 917.0
    }
   },
   "outputs": [],
   "source": [
    "\n",
    "clf_gini.predict([[4, 4, 3, 3]])"
   ]
  },
  {
   "cell_type": "code",
   "execution_count": null,
   "metadata": {
    "id": "ASqY0oah9iSe",
    "colab_type": "code",
    "outputId": "0122061f-1eb6-4de0-ba5b-8456b9838c93",
    "colab": {
     "base_uri": "https://localhost:8080/",
     "height": 917.0
    }
   },
   "outputs": [],
   "source": [
    "array(['R'], dtype=object)"
   ]
  },
  {
   "cell_type": "code",
   "execution_count": null,
   "metadata": {
    "id": "ASqY0oah9iSe",
    "colab_type": "code",
    "outputId": "0122061f-1eb6-4de0-ba5b-8456b9838c93",
    "colab": {
     "base_uri": "https://localhost:8080/",
     "height": 917.0
    }
   },
   "outputs": [],
   "source": [
    "y_pred = clf_gini.predict(X_test)\n",
    "y_pred"
   ]
  },
  {
   "cell_type": "code",
   "execution_count": null,
   "metadata": {
    "id": "ASqY0oah9iSe",
    "colab_type": "code",
    "outputId": "0122061f-1eb6-4de0-ba5b-8456b9838c93",
    "colab": {
     "base_uri": "https://localhost:8080/",
     "height": 917.0
    }
   },
   "outputs": [],
   "source": [
    "\n",
    "array(['R', 'L', 'R', 'R', 'R', 'L', 'R', 'L', 'L', 'L', 'R', 'L', 'L',\n",
    "       'L', 'R', 'L', 'R', 'L', 'L', 'R', 'L', 'R', 'L', 'L', 'R', 'L',\n",
    "       'L', 'L', 'R', 'L', 'L', 'L', 'R', 'L', 'L', 'L', 'L', 'R', 'L',\n",
    "       'L', 'R', 'L', 'R', 'L', 'R', 'R', 'L', 'L', 'R', 'L', 'R', 'R',\n",
    "       'L', 'R', 'R', 'L', 'R', 'R', 'L', 'L', 'R', 'R', 'L', 'L', 'L',\n",
    "       'L', 'L', 'R', 'R', 'L', 'L', 'R', 'R', 'L', 'R', 'L', 'R', 'R',\n",
    "       'R', 'L', 'R', 'L', 'L', 'L', 'L', 'R', 'R', 'L', 'R', 'L', 'R',\n",
    "       'R', 'L', 'L', 'L', 'R', 'R', 'L', 'L', 'L', 'R', 'L', 'R', 'R',\n",
    "       'R', 'R', 'R', 'R', 'R', 'L', 'R', 'L', 'R', 'R', 'L', 'R', 'R',\n",
    "       'R', 'R', 'R', 'L', 'R', 'L', 'L', 'L', 'L', 'L', 'L', 'L', 'R',\n",
    "       'R', 'R', 'R', 'L', 'R', 'R', 'R', 'L', 'L', 'R', 'L', 'R', 'L',\n",
    "       'R', 'L', 'L', 'R', 'L', 'L', 'R', 'L', 'R', 'L', 'R', 'R', 'R',\n",
    "       'L', 'R', 'R', 'R', 'R', 'R', 'L', 'L', 'R', 'R', 'R', 'R', 'L',\n",
    "       'R', 'R', 'R', 'L', 'R', 'L', 'L', 'L', 'L', 'R', 'R', 'L', 'R',\n",
    "       'R', 'L', 'L', 'R', 'R', 'R'], dtype=object)\n"
   ]
  },
  {
   "cell_type": "code",
   "execution_count": null,
   "metadata": {
    "id": "ASqY0oah9iSe",
    "colab_type": "code",
    "outputId": "0122061f-1eb6-4de0-ba5b-8456b9838c93",
    "colab": {
     "base_uri": "https://localhost:8080/",
     "height": 917.0
    }
   },
   "outputs": [],
   "source": [
    "y_pred_en = clf_entropy.predict(X_test)\n",
    "y_pred_en"
   ]
  },
  {
   "cell_type": "code",
   "execution_count": null,
   "metadata": {
    "id": "ASqY0oah9iSe",
    "colab_type": "code",
    "outputId": "0122061f-1eb6-4de0-ba5b-8456b9838c93",
    "colab": {
     "base_uri": "https://localhost:8080/",
     "height": 917.0
    }
   },
   "outputs": [],
   "source": [
    "array(['R', 'L', 'R', 'L', 'R', 'L', 'R', 'L', 'R', 'R', 'R', 'R', 'L',\n",
    "       'L', 'R', 'L', 'R', 'L', 'L', 'R', 'L', 'R', 'L', 'L', 'R', 'L',\n",
    "       'R', 'L', 'R', 'L', 'R', 'L', 'R', 'L', 'L', 'L', 'L', 'L', 'R',\n",
    "       'L', 'R', 'L', 'R', 'L', 'R', 'R', 'L', 'L', 'R', 'L', 'L', 'R',\n",
    "       'L', 'L', 'R', 'L', 'R', 'R', 'L', 'R', 'R', 'R', 'L', 'L', 'R',\n",
    "       'L', 'L', 'R', 'L', 'L', 'L', 'R', 'R', 'L', 'R', 'L', 'R', 'R',\n",
    "       'R', 'L', 'R', 'L', 'L', 'L', 'L', 'R', 'R', 'L', 'R', 'L', 'R',\n",
    "       'R', 'L', 'L', 'L', 'R', 'R', 'L', 'L', 'L', 'R', 'L', 'L', 'R',\n",
    "       'R', 'R', 'R', 'R', 'R', 'L', 'R', 'L', 'R', 'R', 'L', 'R', 'R',\n",
    "       'L', 'R', 'R', 'L', 'R', 'R', 'R', 'L', 'L', 'L', 'L', 'L', 'R',\n",
    "       'R', 'R', 'R', 'L', 'R', 'R', 'R', 'L', 'L', 'R', 'L', 'R', 'L',\n",
    "       'R', 'L', 'R', 'R', 'L', 'L', 'R', 'L', 'R', 'R', 'R', 'R', 'R',\n",
    "       'L', 'R', 'R', 'R', 'R', 'R', 'R', 'L', 'R', 'L', 'R', 'R', 'L',\n",
    "       'R', 'L', 'R', 'L', 'R', 'L', 'L', 'L', 'L', 'L', 'R', 'R', 'R',\n",
    "       'L', 'L', 'L', 'R', 'R', 'R'], dtype=object)\n"
   ]
  },
  {
   "cell_type": "code",
   "execution_count": null,
   "metadata": {
    "id": "ASqY0oah9iSe",
    "colab_type": "code",
    "outputId": "0122061f-1eb6-4de0-ba5b-8456b9838c93",
    "colab": {
     "base_uri": "https://localhost:8080/",
     "height": 917.0
    }
   },
   "outputs": [],
   "source": [
    "\n",
    "print \"Accuracy is \", accuracy_score(y_test,y_pred)*100\n"
   ]
  },
  {
   "cell_type": "heading",
   "metadata": {
    "id": "ASqY0oah9iSe",
    "colab_type": "code",
    "outputId": "0122061f-1eb6-4de0-ba5b-8456b9838c93",
    "colab": {
     "base_uri": "https://localhost:8080/",
     "height": 917.0
    }
   },
   "level": 1,
   "source": [
    "# Accuracy is  73.4042553191"
   ]
  },
  {
   "cell_type": "code",
   "execution_count": null,
   "metadata": {
    "id": "ASqY0oah9iSe",
    "colab_type": "code",
    "outputId": "0122061f-1eb6-4de0-ba5b-8456b9838c93",
    "colab": {
     "base_uri": "https://localhost:8080/",
     "height": 917.0
    }
   },
   "outputs": [],
   "source": [
    "\n",
    "print \"Accuracy is \", accuracy_score(y_test,y_pred_en)*100"
   ]
  },
  {
   "cell_type": "heading",
   "metadata": {
    "id": "ASqY0oah9iSe",
    "colab_type": "code",
    "outputId": "0122061f-1eb6-4de0-ba5b-8456b9838c93",
    "colab": {
     "base_uri": "https://localhost:8080/",
     "height": 917.0
    }
   },
   "level": 2,
   "source": [
    "# Accuracy is 70.7446808511"
   ]
  }
 ],
 "metadata": {
  "colab": {
   "name": "Untitled0.ipynb",
   "version": "0.3.2",
   "provenance": [],
   "collapsed_sections": []
  },
  "kernelspec": {
   "name": "python3",
   "display_name": "Python 3"
  }
 },
 "nbformat": 4,
 "nbformat_minor": 0
}
